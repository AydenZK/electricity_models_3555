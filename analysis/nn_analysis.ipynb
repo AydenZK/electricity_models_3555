{
 "cells": [
  {
   "cell_type": "code",
   "execution_count": 1,
   "metadata": {},
   "outputs": [
    {
     "data": {
      "text/plain": [
       "['c:\\\\Users\\\\Ayden\\\\OneDrive - Monash University\\\\Uni\\\\2022 S2\\\\ETC3555\\\\electricity_models_3555\\\\analysis',\n",
       " 'c:\\\\Users\\\\Ayden\\\\miniconda3\\\\python39.zip',\n",
       " 'c:\\\\Users\\\\Ayden\\\\miniconda3\\\\DLLs',\n",
       " 'c:\\\\Users\\\\Ayden\\\\miniconda3\\\\lib',\n",
       " 'c:\\\\Users\\\\Ayden\\\\miniconda3',\n",
       " '',\n",
       " 'c:\\\\Users\\\\Ayden\\\\miniconda3\\\\lib\\\\site-packages',\n",
       " 'c:\\\\Users\\\\Ayden\\\\miniconda3\\\\lib\\\\site-packages\\\\win32',\n",
       " 'c:\\\\Users\\\\Ayden\\\\miniconda3\\\\lib\\\\site-packages\\\\win32\\\\lib',\n",
       " 'c:\\\\Users\\\\Ayden\\\\miniconda3\\\\lib\\\\site-packages\\\\Pythonwin']"
      ]
     },
     "execution_count": 1,
     "metadata": {},
     "output_type": "execute_result"
    }
   ],
   "source": [
    "import sys\n",
    "sys.path"
   ]
  },
  {
   "cell_type": "code",
   "execution_count": 2,
   "metadata": {},
   "outputs": [],
   "source": [
    "import tensorflow as tf"
   ]
  },
  {
   "cell_type": "code",
   "execution_count": 7,
   "metadata": {},
   "outputs": [
    {
     "data": {
      "text/plain": [
       "[PhysicalDevice(name='/physical_device:CPU:0', device_type='CPU')]"
      ]
     },
     "execution_count": 7,
     "metadata": {},
     "output_type": "execute_result"
    }
   ],
   "source": [
    "tf.config.list_physical_devices()"
   ]
  }
 ],
 "metadata": {
  "kernelspec": {
   "display_name": "Python 3.9.12 ('base')",
   "language": "python",
   "name": "python3"
  },
  "language_info": {
   "codemirror_mode": {
    "name": "ipython",
    "version": 3
   },
   "file_extension": ".py",
   "mimetype": "text/x-python",
   "name": "python",
   "nbconvert_exporter": "python",
   "pygments_lexer": "ipython3",
   "version": "3.9.12"
  },
  "orig_nbformat": 4,
  "vscode": {
   "interpreter": {
    "hash": "940738a06ce9aaea1c14f3f4fc7cb649bc03b2ee047fc8098ed97b52b6d1ce0d"
   }
  }
 },
 "nbformat": 4,
 "nbformat_minor": 2
}

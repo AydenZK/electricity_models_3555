{
 "cells": [
  {
   "cell_type": "code",
   "execution_count": 1,
   "metadata": {},
   "outputs": [
    {
     "ename": "ModuleNotFoundError",
     "evalue": "No module named 'pandas'",
     "output_type": "error",
     "traceback": [
      "\u001b[1;31m---------------------------------------------------------------------------\u001b[0m",
      "\u001b[1;31mModuleNotFoundError\u001b[0m                       Traceback (most recent call last)",
      "\u001b[1;32mc:\\Users\\Ayden\\OneDrive - Monash University\\Uni\\2022 S2\\ETC3555\\electricity_models_3555\\analysis\\eda-ayden.ipynb Cell 1\u001b[0m in \u001b[0;36m<cell line: 1>\u001b[1;34m()\u001b[0m\n\u001b[1;32m----> <a href='vscode-notebook-cell:/c%3A/Users/Ayden/OneDrive%20-%20Monash%20University/Uni/2022%20S2/ETC3555/electricity_models_3555/analysis/eda-ayden.ipynb#W0sZmlsZQ%3D%3D?line=0'>1</a>\u001b[0m \u001b[39mimport\u001b[39;00m \u001b[39mpandas\u001b[39;00m \u001b[39mas\u001b[39;00m \u001b[39mpd\u001b[39;00m\n\u001b[0;32m      <a href='vscode-notebook-cell:/c%3A/Users/Ayden/OneDrive%20-%20Monash%20University/Uni/2022%20S2/ETC3555/electricity_models_3555/analysis/eda-ayden.ipynb#W0sZmlsZQ%3D%3D?line=1'>2</a>\u001b[0m \u001b[39mimport\u001b[39;00m \u001b[39mos\u001b[39;00m\n\u001b[0;32m      <a href='vscode-notebook-cell:/c%3A/Users/Ayden/OneDrive%20-%20Monash%20University/Uni/2022%20S2/ETC3555/electricity_models_3555/analysis/eda-ayden.ipynb#W0sZmlsZQ%3D%3D?line=2'>3</a>\u001b[0m \u001b[39mfrom\u001b[39;00m \u001b[39mpathlib\u001b[39;00m \u001b[39mimport\u001b[39;00m Path\n",
      "\u001b[1;31mModuleNotFoundError\u001b[0m: No module named 'pandas'"
     ]
    }
   ],
   "source": [
    "import pandas as pd\n",
    "import os\n",
    "from pathlib import Path\n",
    "import numpy as np"
   ]
  },
  {
   "cell_type": "code",
   "execution_count": 3,
   "metadata": {},
   "outputs": [],
   "source": [
    "ANALYSIS_PATH = Path(os.getcwd())\n",
    "ROOT_PATH = ANALYSIS_PATH.parent\n",
    "SRC_PATH = ROOT_PATH.joinpath('src')\n",
    "TRAIN_DATA_PATH = ROOT_PATH.joinpath('data').joinpath('electricity')"
   ]
  },
  {
   "cell_type": "code",
   "execution_count": 4,
   "metadata": {},
   "outputs": [],
   "source": [
    "file = '2015_3_ActualTotalLoad.xlsx'\n",
    "filepath = TRAIN_DATA_PATH.joinpath(file)"
   ]
  },
  {
   "cell_type": "markdown",
   "metadata": {},
   "source": [
    "## Questions:\n",
    "- What do we want to predict?\n",
    "    - One country/area?\n",
    "    - A few countries/areas?\n",
    "    - All countries/areas?\n",
    "    - Aggregates? Europe?\n",
    "- Can a NN account for different countries/cat vars for time series traces\n",
    "- Do we manually download test data\n",
    "    - API?\n",
    "- When they say data wrangling, do they mean more so engineering? ie manipulating the data files to a usable format for modelling?"
   ]
  },
  {
   "cell_type": "code",
   "execution_count": 5,
   "metadata": {},
   "outputs": [
    {
     "data": {
      "text/html": [
       "<div>\n",
       "<style scoped>\n",
       "    .dataframe tbody tr th:only-of-type {\n",
       "        vertical-align: middle;\n",
       "    }\n",
       "\n",
       "    .dataframe tbody tr th {\n",
       "        vertical-align: top;\n",
       "    }\n",
       "\n",
       "    .dataframe thead th {\n",
       "        text-align: right;\n",
       "    }\n",
       "</style>\n",
       "<table border=\"1\" class=\"dataframe\">\n",
       "  <thead>\n",
       "    <tr style=\"text-align: right;\">\n",
       "      <th></th>\n",
       "      <th>Year</th>\n",
       "      <th>Month</th>\n",
       "      <th>Day</th>\n",
       "      <th>DateTime</th>\n",
       "      <th>ResolutionCode</th>\n",
       "      <th>areacode</th>\n",
       "      <th>AreaTypeCode</th>\n",
       "      <th>AreaName</th>\n",
       "      <th>MapCode</th>\n",
       "      <th>TotalLoadValue</th>\n",
       "      <th>UpdateTime</th>\n",
       "    </tr>\n",
       "  </thead>\n",
       "  <tbody>\n",
       "    <tr>\n",
       "      <th>0</th>\n",
       "      <td>2015.0</td>\n",
       "      <td>3.0</td>\n",
       "      <td>5.0</td>\n",
       "      <td>2015-03-05 07:00:00</td>\n",
       "      <td>PT60M</td>\n",
       "      <td>10Y1001A1001A39I</td>\n",
       "      <td>BZN</td>\n",
       "      <td>Elering BZ</td>\n",
       "      <td>EE</td>\n",
       "      <td>1179.6</td>\n",
       "      <td>2017-09-14 04:01:02</td>\n",
       "    </tr>\n",
       "    <tr>\n",
       "      <th>1</th>\n",
       "      <td>2015.0</td>\n",
       "      <td>3.0</td>\n",
       "      <td>5.0</td>\n",
       "      <td>2015-03-05 11:00:00</td>\n",
       "      <td>PT60M</td>\n",
       "      <td>10Y1001A1001A39I</td>\n",
       "      <td>BZN</td>\n",
       "      <td>Elering BZ</td>\n",
       "      <td>EE</td>\n",
       "      <td>1144.9</td>\n",
       "      <td>2017-09-14 04:01:02</td>\n",
       "    </tr>\n",
       "    <tr>\n",
       "      <th>2</th>\n",
       "      <td>2015.0</td>\n",
       "      <td>3.0</td>\n",
       "      <td>5.0</td>\n",
       "      <td>2015-03-05 15:00:00</td>\n",
       "      <td>PT60M</td>\n",
       "      <td>10Y1001A1001A39I</td>\n",
       "      <td>BZN</td>\n",
       "      <td>Elering BZ</td>\n",
       "      <td>EE</td>\n",
       "      <td>1100.6</td>\n",
       "      <td>2017-09-14 04:01:02</td>\n",
       "    </tr>\n",
       "    <tr>\n",
       "      <th>3</th>\n",
       "      <td>2015.0</td>\n",
       "      <td>3.0</td>\n",
       "      <td>5.0</td>\n",
       "      <td>2015-03-05 19:00:00</td>\n",
       "      <td>PT60M</td>\n",
       "      <td>10Y1001A1001A39I</td>\n",
       "      <td>BZN</td>\n",
       "      <td>Elering BZ</td>\n",
       "      <td>EE</td>\n",
       "      <td>1071.3</td>\n",
       "      <td>2017-09-14 04:01:02</td>\n",
       "    </tr>\n",
       "    <tr>\n",
       "      <th>4</th>\n",
       "      <td>2015.0</td>\n",
       "      <td>3.0</td>\n",
       "      <td>5.0</td>\n",
       "      <td>2015-03-05 23:00:00</td>\n",
       "      <td>PT60M</td>\n",
       "      <td>10Y1001A1001A39I</td>\n",
       "      <td>BZN</td>\n",
       "      <td>Elering BZ</td>\n",
       "      <td>EE</td>\n",
       "      <td>816.0</td>\n",
       "      <td>2017-09-14 04:01:02</td>\n",
       "    </tr>\n",
       "    <tr>\n",
       "      <th>...</th>\n",
       "      <td>...</td>\n",
       "      <td>...</td>\n",
       "      <td>...</td>\n",
       "      <td>...</td>\n",
       "      <td>...</td>\n",
       "      <td>...</td>\n",
       "      <td>...</td>\n",
       "      <td>...</td>\n",
       "      <td>...</td>\n",
       "      <td>...</td>\n",
       "      <td>...</td>\n",
       "    </tr>\n",
       "    <tr>\n",
       "      <th>132636</th>\n",
       "      <td>2015.0</td>\n",
       "      <td>3.0</td>\n",
       "      <td>30.0</td>\n",
       "      <td>2015-03-30 04:00:00</td>\n",
       "      <td>PT60M</td>\n",
       "      <td>10YCA-BULGARIA-R</td>\n",
       "      <td>CTY</td>\n",
       "      <td>Bulgaria</td>\n",
       "      <td>BG</td>\n",
       "      <td>4568.0</td>\n",
       "      <td>2017-09-14 04:17:28</td>\n",
       "    </tr>\n",
       "    <tr>\n",
       "      <th>132637</th>\n",
       "      <td>2015.0</td>\n",
       "      <td>3.0</td>\n",
       "      <td>30.0</td>\n",
       "      <td>2015-03-30 08:00:00</td>\n",
       "      <td>PT60M</td>\n",
       "      <td>10YCA-BULGARIA-R</td>\n",
       "      <td>CTY</td>\n",
       "      <td>Bulgaria</td>\n",
       "      <td>BG</td>\n",
       "      <td>4713.0</td>\n",
       "      <td>2017-09-14 04:17:28</td>\n",
       "    </tr>\n",
       "    <tr>\n",
       "      <th>132638</th>\n",
       "      <td>2015.0</td>\n",
       "      <td>3.0</td>\n",
       "      <td>30.0</td>\n",
       "      <td>2015-03-30 12:00:00</td>\n",
       "      <td>PT60M</td>\n",
       "      <td>10YCA-BULGARIA-R</td>\n",
       "      <td>CTY</td>\n",
       "      <td>Bulgaria</td>\n",
       "      <td>BG</td>\n",
       "      <td>4350.0</td>\n",
       "      <td>2017-09-14 04:17:28</td>\n",
       "    </tr>\n",
       "    <tr>\n",
       "      <th>132639</th>\n",
       "      <td>2015.0</td>\n",
       "      <td>3.0</td>\n",
       "      <td>30.0</td>\n",
       "      <td>2015-03-30 16:00:00</td>\n",
       "      <td>PT60M</td>\n",
       "      <td>10YCA-BULGARIA-R</td>\n",
       "      <td>CTY</td>\n",
       "      <td>Bulgaria</td>\n",
       "      <td>BG</td>\n",
       "      <td>4886.0</td>\n",
       "      <td>2017-09-14 04:17:28</td>\n",
       "    </tr>\n",
       "    <tr>\n",
       "      <th>132640</th>\n",
       "      <td>2015.0</td>\n",
       "      <td>3.0</td>\n",
       "      <td>30.0</td>\n",
       "      <td>2015-03-30 20:00:00</td>\n",
       "      <td>PT60M</td>\n",
       "      <td>10YCA-BULGARIA-R</td>\n",
       "      <td>CTY</td>\n",
       "      <td>Bulgaria</td>\n",
       "      <td>BG</td>\n",
       "      <td>4450.0</td>\n",
       "      <td>2017-09-14 04:17:28</td>\n",
       "    </tr>\n",
       "  </tbody>\n",
       "</table>\n",
       "<p>132641 rows × 11 columns</p>\n",
       "</div>"
      ],
      "text/plain": [
       "          Year  Month   Day            DateTime ResolutionCode  \\\n",
       "0       2015.0    3.0   5.0 2015-03-05 07:00:00          PT60M   \n",
       "1       2015.0    3.0   5.0 2015-03-05 11:00:00          PT60M   \n",
       "2       2015.0    3.0   5.0 2015-03-05 15:00:00          PT60M   \n",
       "3       2015.0    3.0   5.0 2015-03-05 19:00:00          PT60M   \n",
       "4       2015.0    3.0   5.0 2015-03-05 23:00:00          PT60M   \n",
       "...        ...    ...   ...                 ...            ...   \n",
       "132636  2015.0    3.0  30.0 2015-03-30 04:00:00          PT60M   \n",
       "132637  2015.0    3.0  30.0 2015-03-30 08:00:00          PT60M   \n",
       "132638  2015.0    3.0  30.0 2015-03-30 12:00:00          PT60M   \n",
       "132639  2015.0    3.0  30.0 2015-03-30 16:00:00          PT60M   \n",
       "132640  2015.0    3.0  30.0 2015-03-30 20:00:00          PT60M   \n",
       "\n",
       "                areacode AreaTypeCode    AreaName MapCode  TotalLoadValue  \\\n",
       "0       10Y1001A1001A39I          BZN  Elering BZ      EE          1179.6   \n",
       "1       10Y1001A1001A39I          BZN  Elering BZ      EE          1144.9   \n",
       "2       10Y1001A1001A39I          BZN  Elering BZ      EE          1100.6   \n",
       "3       10Y1001A1001A39I          BZN  Elering BZ      EE          1071.3   \n",
       "4       10Y1001A1001A39I          BZN  Elering BZ      EE           816.0   \n",
       "...                  ...          ...         ...     ...             ...   \n",
       "132636  10YCA-BULGARIA-R          CTY    Bulgaria      BG          4568.0   \n",
       "132637  10YCA-BULGARIA-R          CTY    Bulgaria      BG          4713.0   \n",
       "132638  10YCA-BULGARIA-R          CTY    Bulgaria      BG          4350.0   \n",
       "132639  10YCA-BULGARIA-R          CTY    Bulgaria      BG          4886.0   \n",
       "132640  10YCA-BULGARIA-R          CTY    Bulgaria      BG          4450.0   \n",
       "\n",
       "                UpdateTime  \n",
       "0      2017-09-14 04:01:02  \n",
       "1      2017-09-14 04:01:02  \n",
       "2      2017-09-14 04:01:02  \n",
       "3      2017-09-14 04:01:02  \n",
       "4      2017-09-14 04:01:02  \n",
       "...                    ...  \n",
       "132636 2017-09-14 04:17:28  \n",
       "132637 2017-09-14 04:17:28  \n",
       "132638 2017-09-14 04:17:28  \n",
       "132639 2017-09-14 04:17:28  \n",
       "132640 2017-09-14 04:17:28  \n",
       "\n",
       "[132641 rows x 11 columns]"
      ]
     },
     "execution_count": 5,
     "metadata": {},
     "output_type": "execute_result"
    }
   ],
   "source": [
    "xl_file = pd.ExcelFile(filepath)\n",
    "df = xl_file.parse(file.split('.')[0] + '.csv')\n",
    "df"
   ]
  },
  {
   "cell_type": "code",
   "execution_count": 60,
   "metadata": {},
   "outputs": [
    {
     "data": {
      "text/html": [
       "<div>\n",
       "<style scoped>\n",
       "    .dataframe tbody tr th:only-of-type {\n",
       "        vertical-align: middle;\n",
       "    }\n",
       "\n",
       "    .dataframe tbody tr th {\n",
       "        vertical-align: top;\n",
       "    }\n",
       "\n",
       "    .dataframe thead th {\n",
       "        text-align: right;\n",
       "    }\n",
       "</style>\n",
       "<table border=\"1\" class=\"dataframe\">\n",
       "  <thead>\n",
       "    <tr style=\"text-align: right;\">\n",
       "      <th></th>\n",
       "      <th>Year</th>\n",
       "      <th>Month</th>\n",
       "      <th>Day</th>\n",
       "      <th>DateTime</th>\n",
       "      <th>ResolutionCode</th>\n",
       "      <th>areacode</th>\n",
       "      <th>AreaTypeCode</th>\n",
       "      <th>AreaName</th>\n",
       "      <th>MapCode</th>\n",
       "      <th>TotalLoadValue</th>\n",
       "      <th>UpdateTime</th>\n",
       "    </tr>\n",
       "  </thead>\n",
       "  <tbody>\n",
       "    <tr>\n",
       "      <th>0</th>\n",
       "      <td>2015.0</td>\n",
       "      <td>3.0</td>\n",
       "      <td>5.0</td>\n",
       "      <td>2015-03-05 07:00:00</td>\n",
       "      <td>PT60M</td>\n",
       "      <td>10Y1001A1001A39I</td>\n",
       "      <td>BZN</td>\n",
       "      <td>Elering BZ</td>\n",
       "      <td>EE</td>\n",
       "      <td>1179.6</td>\n",
       "      <td>2017-09-14 04:01:02</td>\n",
       "    </tr>\n",
       "    <tr>\n",
       "      <th>1</th>\n",
       "      <td>2015.0</td>\n",
       "      <td>3.0</td>\n",
       "      <td>5.0</td>\n",
       "      <td>2015-03-05 11:00:00</td>\n",
       "      <td>PT60M</td>\n",
       "      <td>10Y1001A1001A39I</td>\n",
       "      <td>BZN</td>\n",
       "      <td>Elering BZ</td>\n",
       "      <td>EE</td>\n",
       "      <td>1144.9</td>\n",
       "      <td>2017-09-14 04:01:02</td>\n",
       "    </tr>\n",
       "    <tr>\n",
       "      <th>2</th>\n",
       "      <td>2015.0</td>\n",
       "      <td>3.0</td>\n",
       "      <td>5.0</td>\n",
       "      <td>2015-03-05 15:00:00</td>\n",
       "      <td>PT60M</td>\n",
       "      <td>10Y1001A1001A39I</td>\n",
       "      <td>BZN</td>\n",
       "      <td>Elering BZ</td>\n",
       "      <td>EE</td>\n",
       "      <td>1100.6</td>\n",
       "      <td>2017-09-14 04:01:02</td>\n",
       "    </tr>\n",
       "    <tr>\n",
       "      <th>3</th>\n",
       "      <td>2015.0</td>\n",
       "      <td>3.0</td>\n",
       "      <td>5.0</td>\n",
       "      <td>2015-03-05 19:00:00</td>\n",
       "      <td>PT60M</td>\n",
       "      <td>10Y1001A1001A39I</td>\n",
       "      <td>BZN</td>\n",
       "      <td>Elering BZ</td>\n",
       "      <td>EE</td>\n",
       "      <td>1071.3</td>\n",
       "      <td>2017-09-14 04:01:02</td>\n",
       "    </tr>\n",
       "    <tr>\n",
       "      <th>4</th>\n",
       "      <td>2015.0</td>\n",
       "      <td>3.0</td>\n",
       "      <td>5.0</td>\n",
       "      <td>2015-03-05 23:00:00</td>\n",
       "      <td>PT60M</td>\n",
       "      <td>10Y1001A1001A39I</td>\n",
       "      <td>BZN</td>\n",
       "      <td>Elering BZ</td>\n",
       "      <td>EE</td>\n",
       "      <td>816.0</td>\n",
       "      <td>2017-09-14 04:01:02</td>\n",
       "    </tr>\n",
       "    <tr>\n",
       "      <th>5</th>\n",
       "      <td>2015.0</td>\n",
       "      <td>3.0</td>\n",
       "      <td>5.0</td>\n",
       "      <td>2015-03-05 03:00:00</td>\n",
       "      <td>PT60M</td>\n",
       "      <td>10Y1001A1001A39I</td>\n",
       "      <td>CTY</td>\n",
       "      <td>Estonia</td>\n",
       "      <td>EE</td>\n",
       "      <td>843.8</td>\n",
       "      <td>2017-09-14 04:01:02</td>\n",
       "    </tr>\n",
       "    <tr>\n",
       "      <th>6</th>\n",
       "      <td>2015.0</td>\n",
       "      <td>3.0</td>\n",
       "      <td>5.0</td>\n",
       "      <td>2015-03-05 07:00:00</td>\n",
       "      <td>PT60M</td>\n",
       "      <td>10Y1001A1001A39I</td>\n",
       "      <td>CTY</td>\n",
       "      <td>Estonia</td>\n",
       "      <td>EE</td>\n",
       "      <td>1179.6</td>\n",
       "      <td>2017-09-14 04:01:02</td>\n",
       "    </tr>\n",
       "    <tr>\n",
       "      <th>7</th>\n",
       "      <td>2015.0</td>\n",
       "      <td>3.0</td>\n",
       "      <td>5.0</td>\n",
       "      <td>2015-03-05 11:00:00</td>\n",
       "      <td>PT60M</td>\n",
       "      <td>10Y1001A1001A39I</td>\n",
       "      <td>CTY</td>\n",
       "      <td>Estonia</td>\n",
       "      <td>EE</td>\n",
       "      <td>1144.9</td>\n",
       "      <td>2017-09-14 04:01:02</td>\n",
       "    </tr>\n",
       "    <tr>\n",
       "      <th>8</th>\n",
       "      <td>2015.0</td>\n",
       "      <td>3.0</td>\n",
       "      <td>5.0</td>\n",
       "      <td>2015-03-05 15:00:00</td>\n",
       "      <td>PT60M</td>\n",
       "      <td>10Y1001A1001A39I</td>\n",
       "      <td>CTY</td>\n",
       "      <td>Estonia</td>\n",
       "      <td>EE</td>\n",
       "      <td>1100.6</td>\n",
       "      <td>2017-09-14 04:01:02</td>\n",
       "    </tr>\n",
       "    <tr>\n",
       "      <th>9</th>\n",
       "      <td>2015.0</td>\n",
       "      <td>3.0</td>\n",
       "      <td>5.0</td>\n",
       "      <td>2015-03-05 19:00:00</td>\n",
       "      <td>PT60M</td>\n",
       "      <td>10Y1001A1001A39I</td>\n",
       "      <td>CTY</td>\n",
       "      <td>Estonia</td>\n",
       "      <td>EE</td>\n",
       "      <td>1071.3</td>\n",
       "      <td>2017-09-14 04:01:02</td>\n",
       "    </tr>\n",
       "    <tr>\n",
       "      <th>10</th>\n",
       "      <td>2015.0</td>\n",
       "      <td>3.0</td>\n",
       "      <td>5.0</td>\n",
       "      <td>2015-03-05 23:00:00</td>\n",
       "      <td>PT60M</td>\n",
       "      <td>10Y1001A1001A39I</td>\n",
       "      <td>CTY</td>\n",
       "      <td>Estonia</td>\n",
       "      <td>EE</td>\n",
       "      <td>816.0</td>\n",
       "      <td>2017-09-14 04:01:02</td>\n",
       "    </tr>\n",
       "    <tr>\n",
       "      <th>11</th>\n",
       "      <td>2015.0</td>\n",
       "      <td>3.0</td>\n",
       "      <td>5.0</td>\n",
       "      <td>2015-03-05 09:00:00</td>\n",
       "      <td>PT60M</td>\n",
       "      <td>10Y1001A1001A39I</td>\n",
       "      <td>BZN</td>\n",
       "      <td>Elering BZ</td>\n",
       "      <td>EE</td>\n",
       "      <td>1151.8</td>\n",
       "      <td>2017-09-14 04:01:02</td>\n",
       "    </tr>\n",
       "    <tr>\n",
       "      <th>12</th>\n",
       "      <td>2015.0</td>\n",
       "      <td>3.0</td>\n",
       "      <td>5.0</td>\n",
       "      <td>2015-03-05 13:00:00</td>\n",
       "      <td>PT60M</td>\n",
       "      <td>10Y1001A1001A39I</td>\n",
       "      <td>BZN</td>\n",
       "      <td>Elering BZ</td>\n",
       "      <td>EE</td>\n",
       "      <td>1116.8</td>\n",
       "      <td>2017-09-14 04:01:02</td>\n",
       "    </tr>\n",
       "    <tr>\n",
       "      <th>13</th>\n",
       "      <td>2015.0</td>\n",
       "      <td>3.0</td>\n",
       "      <td>5.0</td>\n",
       "      <td>2015-03-05 17:00:00</td>\n",
       "      <td>PT60M</td>\n",
       "      <td>10Y1001A1001A39I</td>\n",
       "      <td>BZN</td>\n",
       "      <td>Elering BZ</td>\n",
       "      <td>EE</td>\n",
       "      <td>1152.9</td>\n",
       "      <td>2017-09-14 04:01:02</td>\n",
       "    </tr>\n",
       "    <tr>\n",
       "      <th>14</th>\n",
       "      <td>2015.0</td>\n",
       "      <td>3.0</td>\n",
       "      <td>5.0</td>\n",
       "      <td>2015-03-05 21:00:00</td>\n",
       "      <td>PT60M</td>\n",
       "      <td>10Y1001A1001A39I</td>\n",
       "      <td>BZN</td>\n",
       "      <td>Elering BZ</td>\n",
       "      <td>EE</td>\n",
       "      <td>912.5</td>\n",
       "      <td>2017-09-14 04:01:02</td>\n",
       "    </tr>\n",
       "    <tr>\n",
       "      <th>15</th>\n",
       "      <td>2015.0</td>\n",
       "      <td>3.0</td>\n",
       "      <td>5.0</td>\n",
       "      <td>2015-03-05 01:00:00</td>\n",
       "      <td>PT60M</td>\n",
       "      <td>10Y1001A1001A39I</td>\n",
       "      <td>CTY</td>\n",
       "      <td>Estonia</td>\n",
       "      <td>EE</td>\n",
       "      <td>796.9</td>\n",
       "      <td>2017-09-14 04:01:02</td>\n",
       "    </tr>\n",
       "    <tr>\n",
       "      <th>16</th>\n",
       "      <td>2015.0</td>\n",
       "      <td>3.0</td>\n",
       "      <td>5.0</td>\n",
       "      <td>2015-03-05 05:00:00</td>\n",
       "      <td>PT60M</td>\n",
       "      <td>10Y1001A1001A39I</td>\n",
       "      <td>CTY</td>\n",
       "      <td>Estonia</td>\n",
       "      <td>EE</td>\n",
       "      <td>1063.4</td>\n",
       "      <td>2017-09-14 04:01:02</td>\n",
       "    </tr>\n",
       "    <tr>\n",
       "      <th>17</th>\n",
       "      <td>2015.0</td>\n",
       "      <td>3.0</td>\n",
       "      <td>5.0</td>\n",
       "      <td>2015-03-05 09:00:00</td>\n",
       "      <td>PT60M</td>\n",
       "      <td>10Y1001A1001A39I</td>\n",
       "      <td>CTY</td>\n",
       "      <td>Estonia</td>\n",
       "      <td>EE</td>\n",
       "      <td>1151.8</td>\n",
       "      <td>2017-09-14 04:01:02</td>\n",
       "    </tr>\n",
       "    <tr>\n",
       "      <th>18</th>\n",
       "      <td>2015.0</td>\n",
       "      <td>3.0</td>\n",
       "      <td>5.0</td>\n",
       "      <td>2015-03-05 13:00:00</td>\n",
       "      <td>PT60M</td>\n",
       "      <td>10Y1001A1001A39I</td>\n",
       "      <td>CTY</td>\n",
       "      <td>Estonia</td>\n",
       "      <td>EE</td>\n",
       "      <td>1116.8</td>\n",
       "      <td>2017-09-14 04:01:02</td>\n",
       "    </tr>\n",
       "    <tr>\n",
       "      <th>19</th>\n",
       "      <td>2015.0</td>\n",
       "      <td>3.0</td>\n",
       "      <td>5.0</td>\n",
       "      <td>2015-03-05 17:00:00</td>\n",
       "      <td>PT60M</td>\n",
       "      <td>10Y1001A1001A39I</td>\n",
       "      <td>CTY</td>\n",
       "      <td>Estonia</td>\n",
       "      <td>EE</td>\n",
       "      <td>1152.9</td>\n",
       "      <td>2017-09-14 04:01:02</td>\n",
       "    </tr>\n",
       "  </tbody>\n",
       "</table>\n",
       "</div>"
      ],
      "text/plain": [
       "      Year  Month  Day            DateTime ResolutionCode          areacode  \\\n",
       "0   2015.0    3.0  5.0 2015-03-05 07:00:00          PT60M  10Y1001A1001A39I   \n",
       "1   2015.0    3.0  5.0 2015-03-05 11:00:00          PT60M  10Y1001A1001A39I   \n",
       "2   2015.0    3.0  5.0 2015-03-05 15:00:00          PT60M  10Y1001A1001A39I   \n",
       "3   2015.0    3.0  5.0 2015-03-05 19:00:00          PT60M  10Y1001A1001A39I   \n",
       "4   2015.0    3.0  5.0 2015-03-05 23:00:00          PT60M  10Y1001A1001A39I   \n",
       "5   2015.0    3.0  5.0 2015-03-05 03:00:00          PT60M  10Y1001A1001A39I   \n",
       "6   2015.0    3.0  5.0 2015-03-05 07:00:00          PT60M  10Y1001A1001A39I   \n",
       "7   2015.0    3.0  5.0 2015-03-05 11:00:00          PT60M  10Y1001A1001A39I   \n",
       "8   2015.0    3.0  5.0 2015-03-05 15:00:00          PT60M  10Y1001A1001A39I   \n",
       "9   2015.0    3.0  5.0 2015-03-05 19:00:00          PT60M  10Y1001A1001A39I   \n",
       "10  2015.0    3.0  5.0 2015-03-05 23:00:00          PT60M  10Y1001A1001A39I   \n",
       "11  2015.0    3.0  5.0 2015-03-05 09:00:00          PT60M  10Y1001A1001A39I   \n",
       "12  2015.0    3.0  5.0 2015-03-05 13:00:00          PT60M  10Y1001A1001A39I   \n",
       "13  2015.0    3.0  5.0 2015-03-05 17:00:00          PT60M  10Y1001A1001A39I   \n",
       "14  2015.0    3.0  5.0 2015-03-05 21:00:00          PT60M  10Y1001A1001A39I   \n",
       "15  2015.0    3.0  5.0 2015-03-05 01:00:00          PT60M  10Y1001A1001A39I   \n",
       "16  2015.0    3.0  5.0 2015-03-05 05:00:00          PT60M  10Y1001A1001A39I   \n",
       "17  2015.0    3.0  5.0 2015-03-05 09:00:00          PT60M  10Y1001A1001A39I   \n",
       "18  2015.0    3.0  5.0 2015-03-05 13:00:00          PT60M  10Y1001A1001A39I   \n",
       "19  2015.0    3.0  5.0 2015-03-05 17:00:00          PT60M  10Y1001A1001A39I   \n",
       "\n",
       "   AreaTypeCode    AreaName MapCode  TotalLoadValue          UpdateTime  \n",
       "0           BZN  Elering BZ      EE          1179.6 2017-09-14 04:01:02  \n",
       "1           BZN  Elering BZ      EE          1144.9 2017-09-14 04:01:02  \n",
       "2           BZN  Elering BZ      EE          1100.6 2017-09-14 04:01:02  \n",
       "3           BZN  Elering BZ      EE          1071.3 2017-09-14 04:01:02  \n",
       "4           BZN  Elering BZ      EE           816.0 2017-09-14 04:01:02  \n",
       "5           CTY     Estonia      EE           843.8 2017-09-14 04:01:02  \n",
       "6           CTY     Estonia      EE          1179.6 2017-09-14 04:01:02  \n",
       "7           CTY     Estonia      EE          1144.9 2017-09-14 04:01:02  \n",
       "8           CTY     Estonia      EE          1100.6 2017-09-14 04:01:02  \n",
       "9           CTY     Estonia      EE          1071.3 2017-09-14 04:01:02  \n",
       "10          CTY     Estonia      EE           816.0 2017-09-14 04:01:02  \n",
       "11          BZN  Elering BZ      EE          1151.8 2017-09-14 04:01:02  \n",
       "12          BZN  Elering BZ      EE          1116.8 2017-09-14 04:01:02  \n",
       "13          BZN  Elering BZ      EE          1152.9 2017-09-14 04:01:02  \n",
       "14          BZN  Elering BZ      EE           912.5 2017-09-14 04:01:02  \n",
       "15          CTY     Estonia      EE           796.9 2017-09-14 04:01:02  \n",
       "16          CTY     Estonia      EE          1063.4 2017-09-14 04:01:02  \n",
       "17          CTY     Estonia      EE          1151.8 2017-09-14 04:01:02  \n",
       "18          CTY     Estonia      EE          1116.8 2017-09-14 04:01:02  \n",
       "19          CTY     Estonia      EE          1152.9 2017-09-14 04:01:02  "
      ]
     },
     "execution_count": 60,
     "metadata": {},
     "output_type": "execute_result"
    }
   ],
   "source": [
    "df.head(20)"
   ]
  },
  {
   "cell_type": "markdown",
   "metadata": {},
   "source": [
    "## DQ Checklist\n",
    "- Check Colnames\n",
    "- Check Coltypes\n",
    "---\n",
    "- Check Number of NaNs\n",
    "- Check year month day lines up with datetime\n",
    "- Check cat var names compare w website?\n",
    "- Outliers in TotalLoadValue\n",
    "---\n",
    "- Imputation (decide what to do with NaNs)\n",
    "- Combine Dataset?"
   ]
  },
  {
   "cell_type": "markdown",
   "metadata": {},
   "source": [
    "### Col Schema"
   ]
  },
  {
   "cell_type": "code",
   "execution_count": 36,
   "metadata": {},
   "outputs": [],
   "source": [
    "from numpy import dtype\n",
    "COLS = {'Year': dtype('float64'),\n",
    " 'Month': dtype('float64'),\n",
    " 'Day': dtype('float64'),\n",
    " 'DateTime': dtype('<M8[ns]'),\n",
    " 'ResolutionCode': dtype('O'),\n",
    " 'areacode': dtype('O'),\n",
    " 'AreaTypeCode': dtype('O'),\n",
    " 'AreaName': dtype('O'),\n",
    " 'MapCode': dtype('O'),\n",
    " 'TotalLoadValue': dtype('float64'),\n",
    " 'UpdateTime': dtype('<M8[ns]')}"
   ]
  },
  {
   "cell_type": "markdown",
   "metadata": {},
   "source": [
    "## Check Colnames"
   ]
  },
  {
   "cell_type": "code",
   "execution_count": 40,
   "metadata": {},
   "outputs": [
    {
     "data": {
      "text/plain": [
       "True"
      ]
     },
     "execution_count": 40,
     "metadata": {},
     "output_type": "execute_result"
    }
   ],
   "source": [
    "def check_colnames(df):\n",
    "    colnames = set(COLS.keys())\n",
    "    return set(df.columns).issubset(colnames) and set(df.columns).issuperset(colnames)\n",
    "\n",
    "check_colnames(df)"
   ]
  },
  {
   "cell_type": "markdown",
   "metadata": {},
   "source": [
    "## Check Coltypes"
   ]
  },
  {
   "cell_type": "code",
   "execution_count": 41,
   "metadata": {},
   "outputs": [
    {
     "data": {
      "text/plain": [
       "True"
      ]
     },
     "execution_count": 41,
     "metadata": {},
     "output_type": "execute_result"
    }
   ],
   "source": [
    "def check_coltypes(df):\n",
    "    return all([df[i].dtype == COLS[i] for i in COLS.keys()])\n",
    "\n",
    "check_coltypes(df)"
   ]
  },
  {
   "cell_type": "markdown",
   "metadata": {},
   "source": [
    "## YMD Check"
   ]
  },
  {
   "cell_type": "code",
   "execution_count": 45,
   "metadata": {},
   "outputs": [
    {
     "data": {
      "text/plain": [
       "True"
      ]
     },
     "execution_count": 45,
     "metadata": {},
     "output_type": "execute_result"
    }
   ],
   "source": [
    "def check_ymd(df):\n",
    "    return all(df.apply(lambda row: \n",
    "    (row['DateTime'].year == row['Year']) and\n",
    "    (row['DateTime'].month == row['Month']) and\n",
    "    (row['DateTime'].day == row['Day']), axis=1))\n",
    "\n",
    "check_ymd(df)"
   ]
  },
  {
   "cell_type": "code",
   "execution_count": 49,
   "metadata": {},
   "outputs": [
    {
     "data": {
      "text/plain": [
       "array(['2020_3_ActualTotalLoad.xlsx', '2019_8_ActualTotalLoad.xlsx',\n",
       "       '2017_4_ActualTotalLoad.xlsx', '2018_3_ActualTotalLoad.xlsx',\n",
       "       '2021_06_ActualTotalLoad_6.1.A.xlsx',\n",
       "       '2018_8_ActualTotalLoad.xlsx', '2015_1_ActualTotalLoad.xlsx',\n",
       "       '2015_12_ActualTotalLoad.xlsx',\n",
       "       '2020_01_ActualTotalLoad_6.1.A.xlsx',\n",
       "       '2020_08_ActualTotalLoad_6.1.A.xlsx'], dtype='<U34')"
      ]
     },
     "execution_count": 49,
     "metadata": {},
     "output_type": "execute_result"
    }
   ],
   "source": [
    "np.random.choice(os.listdir(TRAIN_DATA_PATH), 10, replace=False)"
   ]
  },
  {
   "cell_type": "code",
   "execution_count": 52,
   "metadata": {},
   "outputs": [
    {
     "data": {
      "text/plain": [
       "'.xlsx'"
      ]
     },
     "execution_count": 52,
     "metadata": {},
     "output_type": "execute_result"
    }
   ],
   "source": [
    "TRAIN_DATA_PATH.joinpath('2015_12_ActualTotalLoad.xlsx').suffix"
   ]
  },
  {
   "cell_type": "code",
   "execution_count": 61,
   "metadata": {},
   "outputs": [
    {
     "name": "stderr",
     "output_type": "stream",
     "text": [
      "  0%|          | 0/15 [00:00<?, ?it/s]"
     ]
    },
    {
     "name": "stdout",
     "output_type": "stream",
     "text": [
      "2018_6_ActualTotalLoad.xlsx\n"
     ]
    },
    {
     "name": "stderr",
     "output_type": "stream",
     "text": [
      "  7%|▋         | 1/15 [00:44<10:25, 44.68s/it]"
     ]
    },
    {
     "name": "stdout",
     "output_type": "stream",
     "text": [
      "2016_11_ActualTotalLoad.xlsx\n"
     ]
    },
    {
     "name": "stderr",
     "output_type": "stream",
     "text": [
      " 13%|█▎        | 2/15 [01:29<09:44, 44.94s/it]"
     ]
    },
    {
     "name": "stdout",
     "output_type": "stream",
     "text": [
      "2019_12_ActualTotalLoad.xlsx\n"
     ]
    },
    {
     "name": "stderr",
     "output_type": "stream",
     "text": [
      " 20%|██        | 3/15 [02:16<09:08, 45.70s/it]"
     ]
    },
    {
     "name": "stdout",
     "output_type": "stream",
     "text": [
      "2020_5_ActualTotalLoad.xlsx\n"
     ]
    },
    {
     "name": "stderr",
     "output_type": "stream",
     "text": [
      " 27%|██▋       | 4/15 [03:06<08:42, 47.54s/it]"
     ]
    },
    {
     "name": "stdout",
     "output_type": "stream",
     "text": [
      "2020_07_ActualTotalLoad_6.1.A.xlsx\n"
     ]
    },
    {
     "name": "stderr",
     "output_type": "stream",
     "text": [
      " 33%|███▎      | 5/15 [03:14<05:31, 33.18s/it]"
     ]
    },
    {
     "name": "stdout",
     "output_type": "stream",
     "text": [
      "2021_06_ActualTotalLoad_6.1.A.xlsx\n"
     ]
    },
    {
     "name": "stderr",
     "output_type": "stream",
     "text": [
      " 40%|████      | 6/15 [03:14<03:18, 22.01s/it]"
     ]
    },
    {
     "name": "stdout",
     "output_type": "stream",
     "text": [
      "2015_4_ActualTotalLoad.xlsx\n"
     ]
    },
    {
     "name": "stderr",
     "output_type": "stream",
     "text": [
      " 47%|████▋     | 7/15 [04:03<04:04, 30.59s/it]"
     ]
    },
    {
     "name": "stdout",
     "output_type": "stream",
     "text": [
      "2020_01_ActualTotalLoad_6.1.A.xlsx\n"
     ]
    },
    {
     "name": "stderr",
     "output_type": "stream",
     "text": [
      " 53%|█████▎    | 8/15 [04:11<02:44, 23.54s/it]"
     ]
    },
    {
     "name": "stdout",
     "output_type": "stream",
     "text": [
      "2018_1_ActualTotalLoad.xlsx\n"
     ]
    },
    {
     "name": "stderr",
     "output_type": "stream",
     "text": [
      " 60%|██████    | 9/15 [05:00<03:08, 31.49s/it]"
     ]
    },
    {
     "name": "stdout",
     "output_type": "stream",
     "text": [
      "2015_2_ActualTotalLoad.xlsx\n"
     ]
    },
    {
     "name": "stderr",
     "output_type": "stream",
     "text": [
      " 67%|██████▋   | 10/15 [05:44<02:56, 35.35s/it]"
     ]
    },
    {
     "name": "stdout",
     "output_type": "stream",
     "text": [
      "2021_05_ActualTotalLoad_6.1.A.xlsx\n"
     ]
    },
    {
     "name": "stderr",
     "output_type": "stream",
     "text": [
      " 73%|███████▎  | 11/15 [05:52<01:48, 27.11s/it]"
     ]
    },
    {
     "name": "stdout",
     "output_type": "stream",
     "text": [
      "2016_6_ActualTotalLoad.xlsx\n"
     ]
    },
    {
     "name": "stderr",
     "output_type": "stream",
     "text": [
      " 80%|████████  | 12/15 [06:37<01:37, 32.47s/it]"
     ]
    },
    {
     "name": "stdout",
     "output_type": "stream",
     "text": [
      "2016_4_ActualTotalLoad.xlsx\n"
     ]
    },
    {
     "name": "stderr",
     "output_type": "stream",
     "text": [
      " 87%|████████▋ | 13/15 [07:23<01:12, 36.46s/it]"
     ]
    },
    {
     "name": "stdout",
     "output_type": "stream",
     "text": [
      "2019_8_ActualTotalLoad.xlsx\n"
     ]
    },
    {
     "name": "stderr",
     "output_type": "stream",
     "text": [
      " 93%|█████████▎| 14/15 [08:13<00:40, 40.74s/it]"
     ]
    },
    {
     "name": "stdout",
     "output_type": "stream",
     "text": [
      "2021_03_ActualTotalLoad_6.1.A.xlsx\n"
     ]
    },
    {
     "name": "stderr",
     "output_type": "stream",
     "text": [
      "100%|██████████| 15/15 [08:22<00:00, 33.48s/it]\n"
     ]
    },
    {
     "data": {
      "text/html": [
       "<div>\n",
       "<style scoped>\n",
       "    .dataframe tbody tr th:only-of-type {\n",
       "        vertical-align: middle;\n",
       "    }\n",
       "\n",
       "    .dataframe tbody tr th {\n",
       "        vertical-align: top;\n",
       "    }\n",
       "\n",
       "    .dataframe thead th {\n",
       "        text-align: right;\n",
       "    }\n",
       "</style>\n",
       "<table border=\"1\" class=\"dataframe\">\n",
       "  <thead>\n",
       "    <tr style=\"text-align: right;\">\n",
       "      <th></th>\n",
       "      <th>file</th>\n",
       "      <th>Column Names</th>\n",
       "      <th>Column Types</th>\n",
       "      <th>Year Month Day</th>\n",
       "    </tr>\n",
       "  </thead>\n",
       "  <tbody>\n",
       "    <tr>\n",
       "      <th>0</th>\n",
       "      <td>2018_6_ActualTotalLoad.xlsx</td>\n",
       "      <td>True</td>\n",
       "      <td>True</td>\n",
       "      <td>True</td>\n",
       "    </tr>\n",
       "    <tr>\n",
       "      <th>1</th>\n",
       "      <td>2016_11_ActualTotalLoad.xlsx</td>\n",
       "      <td>True</td>\n",
       "      <td>True</td>\n",
       "      <td>True</td>\n",
       "    </tr>\n",
       "    <tr>\n",
       "      <th>2</th>\n",
       "      <td>2019_12_ActualTotalLoad.xlsx</td>\n",
       "      <td>True</td>\n",
       "      <td>True</td>\n",
       "      <td>True</td>\n",
       "    </tr>\n",
       "    <tr>\n",
       "      <th>3</th>\n",
       "      <td>2020_5_ActualTotalLoad.xlsx</td>\n",
       "      <td>True</td>\n",
       "      <td>True</td>\n",
       "      <td>True</td>\n",
       "    </tr>\n",
       "    <tr>\n",
       "      <th>4</th>\n",
       "      <td>2015_4_ActualTotalLoad.xlsx</td>\n",
       "      <td>True</td>\n",
       "      <td>True</td>\n",
       "      <td>True</td>\n",
       "    </tr>\n",
       "    <tr>\n",
       "      <th>5</th>\n",
       "      <td>2018_1_ActualTotalLoad.xlsx</td>\n",
       "      <td>True</td>\n",
       "      <td>True</td>\n",
       "      <td>True</td>\n",
       "    </tr>\n",
       "    <tr>\n",
       "      <th>6</th>\n",
       "      <td>2015_2_ActualTotalLoad.xlsx</td>\n",
       "      <td>True</td>\n",
       "      <td>True</td>\n",
       "      <td>True</td>\n",
       "    </tr>\n",
       "    <tr>\n",
       "      <th>7</th>\n",
       "      <td>2016_6_ActualTotalLoad.xlsx</td>\n",
       "      <td>True</td>\n",
       "      <td>True</td>\n",
       "      <td>True</td>\n",
       "    </tr>\n",
       "    <tr>\n",
       "      <th>8</th>\n",
       "      <td>2016_4_ActualTotalLoad.xlsx</td>\n",
       "      <td>True</td>\n",
       "      <td>True</td>\n",
       "      <td>True</td>\n",
       "    </tr>\n",
       "    <tr>\n",
       "      <th>9</th>\n",
       "      <td>2019_8_ActualTotalLoad.xlsx</td>\n",
       "      <td>True</td>\n",
       "      <td>True</td>\n",
       "      <td>True</td>\n",
       "    </tr>\n",
       "  </tbody>\n",
       "</table>\n",
       "</div>"
      ],
      "text/plain": [
       "                           file  Column Names  Column Types  Year Month Day\n",
       "0   2018_6_ActualTotalLoad.xlsx          True          True            True\n",
       "1  2016_11_ActualTotalLoad.xlsx          True          True            True\n",
       "2  2019_12_ActualTotalLoad.xlsx          True          True            True\n",
       "3   2020_5_ActualTotalLoad.xlsx          True          True            True\n",
       "4   2015_4_ActualTotalLoad.xlsx          True          True            True\n",
       "5   2018_1_ActualTotalLoad.xlsx          True          True            True\n",
       "6   2015_2_ActualTotalLoad.xlsx          True          True            True\n",
       "7   2016_6_ActualTotalLoad.xlsx          True          True            True\n",
       "8   2016_4_ActualTotalLoad.xlsx          True          True            True\n",
       "9   2019_8_ActualTotalLoad.xlsx          True          True            True"
      ]
     },
     "execution_count": 61,
     "metadata": {},
     "output_type": "execute_result"
    }
   ],
   "source": [
    "from tqdm import tqdm\n",
    "class DQCheck:\n",
    "    def __init__(self, func_map, n=False):\n",
    "        self.n_files = n\n",
    "        self.func_map = func_map\n",
    "\n",
    "    def run_checks(self):\n",
    "        file_dir = os.listdir(TRAIN_DATA_PATH)\n",
    "        if self.n_files:\n",
    "            self.files = np.random.choice(file_dir, self.n_files, replace=False)\n",
    "        else:\n",
    "            self.files = file_dir\n",
    "        \n",
    "        results = []\n",
    "\n",
    "        for filename in tqdm(self.files):\n",
    "            print(filename)\n",
    "            res = {\"file\": filename}\n",
    "            try:\n",
    "                file_path = TRAIN_DATA_PATH.joinpath(filename)\n",
    "                fdf = self.read_file(path=file_path)\n",
    "            except: continue\n",
    "            \n",
    "            for test_func in self.func_map:\n",
    "                func = self.func_map[test_func]['func']\n",
    "                args = self.func_map[test_func]['args'] \n",
    "                res[test_func] = func(fdf, **args)\n",
    "\n",
    "            results.append(res)\n",
    "\n",
    "        return pd.DataFrame(results)\n",
    "        \n",
    "    def read_file(self, path:str) -> pd.DataFrame:\n",
    "        if path.suffix == '.xlsx':\n",
    "            xl_file = pd.ExcelFile(path)\n",
    "            df = xl_file.parse(path.stem + '.csv')\n",
    "        \n",
    "        return df\n",
    "\n",
    "func_map = {\n",
    "    \"Column Names\": {\n",
    "        \"func\": check_colnames,\n",
    "        \"args\": {} \n",
    "    },\n",
    "    \"Column Types\": {\n",
    "        \"func\": check_coltypes,\n",
    "        \"args\": {} \n",
    "    },\n",
    "    \"Year Month Day\": {\n",
    "        \"func\": check_ymd,\n",
    "        \"args\": {} \n",
    "    }\n",
    "}\n",
    "\n",
    "dqc = DQCheck(n=15, func_map=func_map)\n",
    "dqc.run_checks()   "
   ]
  },
  {
   "cell_type": "markdown",
   "metadata": {},
   "source": [
    "## NaNs"
   ]
  },
  {
   "cell_type": "code",
   "execution_count": null,
   "metadata": {},
   "outputs": [],
   "source": [
    "# # drop columns with less than 5 NaN values\n",
    "# df.dropna(axis=1, thresh=5)\n",
    "\n",
    "# # replace all na values with -9999\n",
    "# df.fillna(-9999)\n",
    "\n",
    "# # fill missing values with mean column values\n",
    "# df.fillna(df.mean())\n",
    "\n",
    "# # replace na values of specific columns with mean value\n",
    "# df[\"sepal_length\"].fillna(df[\"sepal_length\"].mean())"
   ]
  }
 ],
 "metadata": {
  "kernelspec": {
   "display_name": "Python 3.10.2 64-bit",
   "language": "python",
   "name": "python3"
  },
  "language_info": {
   "codemirror_mode": {
    "name": "ipython",
    "version": 3
   },
   "file_extension": ".py",
   "mimetype": "text/x-python",
   "name": "python",
   "nbconvert_exporter": "python",
   "pygments_lexer": "ipython3",
   "version": "3.10.2"
  },
  "orig_nbformat": 4,
  "vscode": {
   "interpreter": {
    "hash": "f7384bc7e4e453d7b365384f012750802d483f9ae59a7d90588c6e0e0400e586"
   }
  }
 },
 "nbformat": 4,
 "nbformat_minor": 2
}
